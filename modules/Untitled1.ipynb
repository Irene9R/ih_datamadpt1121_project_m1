{
 "cells": [
  {
   "cell_type": "code",
   "execution_count": null,
   "id": "3f576978",
   "metadata": {},
   "outputs": [],
   "source": [
    "define libraries\n",
    "    import pandas as pd\n",
    "    import numpy as np\n",
    "    import bs4\n",
    "    import requests\n",
    "    from shapely.geometry import Point\n",
    "    import geopandas as gpd\n",
    "    import warnings"
   ]
  }
 ],
 "metadata": {
  "kernelspec": {
   "display_name": "Python [conda env:project1]",
   "language": "python",
   "name": "conda-env-project1-py"
  },
  "language_info": {
   "codemirror_mode": {
    "name": "ipython",
    "version": 3
   },
   "file_extension": ".py",
   "mimetype": "text/x-python",
   "name": "python",
   "nbconvert_exporter": "python",
   "pygments_lexer": "ipython3",
   "version": "3.7.11"
  }
 },
 "nbformat": 4,
 "nbformat_minor": 5
}
